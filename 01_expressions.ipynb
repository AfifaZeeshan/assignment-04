{
  "nbformat": 4,
  "nbformat_minor": 0,
  "metadata": {
    "colab": {
      "provenance": [],
      "authorship_tag": "ABX9TyM/6a6XJfsDf5sNhBIdc8WK",
      "include_colab_link": true
    },
    "kernelspec": {
      "name": "python3",
      "display_name": "Python 3"
    },
    "language_info": {
      "name": "python"
    }
  },
  "cells": [
    {
      "cell_type": "markdown",
      "metadata": {
        "id": "view-in-github",
        "colab_type": "text"
      },
      "source": [
        "<a href=\"https://colab.research.google.com/github/AfifaZeeshan/assignment-04/blob/main/01_expressions.ipynb\" target=\"_parent\"><img src=\"https://colab.research.google.com/assets/colab-badge.svg\" alt=\"Open In Colab\"/></a>"
      ]
    },
    {
      "cell_type": "code",
      "execution_count": 23,
      "metadata": {
        "colab": {
          "base_uri": "https://localhost:8080/"
        },
        "id": "nxWaH01iyEfg",
        "outputId": "d8885ebe-dfd8-49d8-d169-d8d22ab92531"
      },
      "outputs": [
        {
          "output_type": "stream",
          "name": "stdout",
          "text": [
            "01_dicesimulator\n",
            "die1 in main() start as: 10\n",
            "Total of two dice: 6\n",
            "Total of two dice: 4\n",
            "Total of two dice: 9\n",
            "die1 in main() is: 10\n"
          ]
        }
      ],
      "source": [
        "import random\n",
        "print(\"01_dicesimulator\")\n",
        "\n",
        "def roll_dice():\n",
        "  die1:int = random.randint(1,6)\n",
        "  die2:int = random.randint(1,6)\n",
        "  total:int = die1 + die2\n",
        "  print(f'Total of two dice: {total}')\n",
        "\n",
        "def main():\n",
        "  die1:int =  10\n",
        "  print(\"die1 in main() start as: \" + str(die1))\n",
        "  roll_dice()\n",
        "  roll_dice()\n",
        "  roll_dice()\n",
        "  print(\"die1 in main() is: \" + str(die1))\n",
        "\n",
        "if __name__ == \"__main__\":\n",
        "  main()"
      ]
    },
    {
      "cell_type": "code",
      "source": [
        "print(\"02_e=mc2\")\n",
        "\n",
        "def energy():\n",
        "  c:float = 299792458\n",
        "  m:float = float(input(\"Enter the value of mass in kgs: \"))\n",
        "  print(\"e = m*c^2\")\n",
        "  print(\"m = \" + str(m) + \" kgs\")\n",
        "  print(\"c = \" + str(c) + \" m/s\")\n",
        "  print(\"e = \" + str(m * c ** 2) + \" joules\")\n",
        "\n",
        "if __name__ == \"__main__\":\n",
        "  energy()"
      ],
      "metadata": {
        "colab": {
          "base_uri": "https://localhost:8080/"
        },
        "id": "e6sZ1XqQ1fTD",
        "outputId": "a87579fc-4c38-4fcf-ea5f-3014100230b5"
      },
      "execution_count": null,
      "outputs": [
        {
          "output_type": "stream",
          "name": "stdout",
          "text": [
            "02_e=mc2\n",
            "Enter the value of mass in kgs: 22\n",
            "e = m*c^2\n",
            "m = 22.0 kgs\n",
            "c = 299792458 m/s\n",
            "e = 1.9772613932209987e+18 joules\n"
          ]
        }
      ]
    },
    {
      "cell_type": "code",
      "source": [
        "print(\"03_feet_to_inches\")\n",
        "\n",
        "inch: int = 12\n",
        "def foot():\n",
        "  feet:int = int(input(\"Enter feet to get inches: \"))\n",
        "  print(f\"There are {inch  * feet} inches in {feet}feet\")\n",
        "\n",
        "if __name__ == \"__main__\":\n",
        "  foot()"
      ],
      "metadata": {
        "colab": {
          "base_uri": "https://localhost:8080/"
        },
        "id": "TW3haczG6u9Z",
        "outputId": "2e03b7a8-78ac-426e-87b6-9071ab88a9b9"
      },
      "execution_count": null,
      "outputs": [
        {
          "output_type": "stream",
          "name": "stdout",
          "text": [
            "03_feet_to_inches\n",
            "Enter feet to get inches: 20\n",
            "There are 240 inches in 20feet\n"
          ]
        }
      ]
    },
    {
      "cell_type": "code",
      "source": [
        "import math\n",
        "print(\"04_pythagorean_theorem\")\n",
        "\n",
        "def triangle():\n",
        "  ab:float = float(input(\"Enter the length of the side AB: \"))\n",
        "  ac:float = float(input(\"Enter the length of the side AC: \"))\n",
        "  bc:float = math.sqrt(ab**2 + ac**2)\n",
        "  print(f\"the length of the hypotenuse (BC): {bc}\")\n",
        "\n",
        "if __name__ == \"__main__\":\n",
        "  triangle()"
      ],
      "metadata": {
        "colab": {
          "base_uri": "https://localhost:8080/"
        },
        "id": "mwwDAN8Q78-s",
        "outputId": "f6d8fecc-0bd2-4f52-ec56-5f19c19b240e"
      },
      "execution_count": null,
      "outputs": [
        {
          "output_type": "stream",
          "name": "stdout",
          "text": [
            "04_pythagorean_theorem\n",
            "Enter the length of the side AB: 22\n",
            "Enter the length of the side AC: 32\n",
            "the length of the hypotenuse (BC): 38.8329756778952\n"
          ]
        }
      ]
    },
    {
      "cell_type": "code",
      "source": [
        "print(\"05_remainder_division\")\n",
        "\n",
        "def remainder_division():\n",
        "  num1:int = int(input(\"Enter an integer: \"))\n",
        "  num2:int = int(input(\"Enter a divisor: \"))\n",
        "  quotient:int = num1 // num2\n",
        "  remainder:int = num1 % num2\n",
        "  print(f\"Result of this division is {quotient} with a remainder of {remainder}.\")\n",
        "\n",
        "if __name__ == \"__main__\":\n",
        "  remainder_division()"
      ],
      "metadata": {
        "id": "YhLlJLsJ_0c8",
        "colab": {
          "base_uri": "https://localhost:8080/"
        },
        "outputId": "35e92451-4b6e-4712-c92b-3153108db350"
      },
      "execution_count": 22,
      "outputs": [
        {
          "output_type": "stream",
          "name": "stdout",
          "text": [
            "05_remainder_division\n",
            "Enter an integer: 56\n",
            "Enter a divisor: 3\n",
            "Result of this division is 18 with a remainder of 2.\n"
          ]
        }
      ]
    },
    {
      "cell_type": "code",
      "source": [
        "import random\n",
        "\n",
        "print(\"06_rolldice\")\n",
        "\n",
        "def roll_dice():\n",
        "  die1:int = random.randint(1,6)\n",
        "  die2:int = random.randint(1,6)\n",
        "  total:int = int(die1 + die2)\n",
        "  print(\"First die: \" + str(die1))\n",
        "  print(\"Second die: \" + str(die2))\n",
        "  print(f\"Total of 2 dice is {total}\")\n",
        "\n",
        "if __name__ == \"__main__\":\n",
        "  roll_dice()"
      ],
      "metadata": {
        "colab": {
          "base_uri": "https://localhost:8080/"
        },
        "id": "lsDjxT2QGUky",
        "outputId": "f9a52a36-1341-4186-b33f-dc14d73cd236"
      },
      "execution_count": 25,
      "outputs": [
        {
          "output_type": "stream",
          "name": "stdout",
          "text": [
            "06_rolldice\n",
            "First die: 3\n",
            "Second die: 6\n",
            "Total of 2 dice is 9\n"
          ]
        }
      ]
    },
    {
      "cell_type": "code",
      "source": [
        "print(\"06_seconds_in_year\")\n",
        "\n",
        "days_a_year:int = 365\n",
        "hours_a_day:int = 24\n",
        "minutes_an_hour:int = 60\n",
        "seconds_a_minute:int = 60\n",
        "\n",
        "def seconds():\n",
        "  print(f\"There are {days_a_year * hours_a_day * minutes_an_hour * seconds_a_minute} seconds in a year. \")\n",
        "\n",
        "if __name__ == \"__main__\":\n",
        "  seconds()"
      ],
      "metadata": {
        "colab": {
          "base_uri": "https://localhost:8080/"
        },
        "id": "EMLNyJUZHfh3",
        "outputId": "12213aac-a8e7-4d6a-bcda-fe4df5b3b47d"
      },
      "execution_count": 27,
      "outputs": [
        {
          "output_type": "stream",
          "name": "stdout",
          "text": [
            "06_seconds_in_year\n",
            "There are 31536000 seconds in a year. \n"
          ]
        }
      ]
    },
    {
      "cell_type": "code",
      "source": [
        "print(\"07_tiny_mad_lib\")\n",
        "def mad_lib():\n",
        "  noun:str = str(input(\"Enter a noun:\"))\n",
        "  adjective:str = str(input(\"Enter an adjective:\"))\n",
        "  verb:str = str(input(\"Enter a verb:\"))\n",
        "  print(f\"{noun} is {verb} so {adjective}.\")\n",
        "\n",
        "if __name__ == \"__main__\":\n",
        "  mad_lib()"
      ],
      "metadata": {
        "colab": {
          "base_uri": "https://localhost:8080/"
        },
        "id": "cxKxJN-KJvhB",
        "outputId": "44c21ac5-575b-4dc6-84e1-a16caf04b021"
      },
      "execution_count": 30,
      "outputs": [
        {
          "output_type": "stream",
          "name": "stdout",
          "text": [
            "07_tiny_mad_lib\n",
            "Enter a noun:Afifa\n",
            "Enter an adjective:passionately\n",
            "Enter a verb:working\n",
            "Afifa is working so passionately\n"
          ]
        }
      ]
    }
  ]
}