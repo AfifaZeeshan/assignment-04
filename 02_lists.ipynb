{
  "nbformat": 4,
  "nbformat_minor": 0,
  "metadata": {
    "colab": {
      "provenance": [],
      "authorship_tag": "ABX9TyMVQ/6iDvfBeDLcKcSmKbIh",
      "include_colab_link": true
    },
    "kernelspec": {
      "name": "python3",
      "display_name": "Python 3"
    },
    "language_info": {
      "name": "python"
    }
  },
  "cells": [
    {
      "cell_type": "markdown",
      "metadata": {
        "id": "view-in-github",
        "colab_type": "text"
      },
      "source": [
        "<a href=\"https://colab.research.google.com/github/AfifaZeeshan/assignment-04/blob/main/02_lists.ipynb\" target=\"_parent\"><img src=\"https://colab.research.google.com/assets/colab-badge.svg\" alt=\"Open In Colab\"/></a>"
      ]
    },
    {
      "cell_type": "code",
      "execution_count": 1,
      "metadata": {
        "colab": {
          "base_uri": "https://localhost:8080/"
        },
        "id": "wZ3pOVD3N94f",
        "outputId": "90d3fd2b-a4cc-4602-d545-1a3e4f53534c"
      },
      "outputs": [
        {
          "output_type": "stream",
          "name": "stdout",
          "text": [
            "01_add_many_number\n",
            "15\n"
          ]
        }
      ],
      "source": [
        "print(\"01_add_many_number\")\n",
        "\n",
        "def add_number(numbers)->int:\n",
        "  num:int = 0\n",
        "  for i in numbers:\n",
        "    num += i\n",
        "  return num\n",
        "\n",
        "def main():\n",
        "  numbers:list[int] = [1,2,3,4,5]\n",
        "  sum = add_number(numbers)\n",
        "  print(sum)\n",
        "\n",
        "if __name__ == \"__main__\":\n",
        "  main()"
      ]
    },
    {
      "cell_type": "code",
      "source": [
        "print(\"02_double_list\")\n",
        "\n",
        "def main():\n",
        "  numbers:list[int] = [1,2,3,4,5]\n",
        "  for i in range(len(numbers)):\n",
        "    index = numbers[i]\n",
        "    numbers[i] = index * 2\n",
        "  print(numbers)\n",
        "\n",
        "if __name__ == \"__main__\":\n",
        "  main()"
      ],
      "metadata": {
        "colab": {
          "base_uri": "https://localhost:8080/"
        },
        "id": "yTF-dTz_PT6R",
        "outputId": "34c39629-d01a-4b36-b7b3-fa3dab696f78"
      },
      "execution_count": 2,
      "outputs": [
        {
          "output_type": "stream",
          "name": "stdout",
          "text": [
            "02_double_list\n",
            "[2, 4, 6, 8, 10]\n"
          ]
        }
      ]
    },
    {
      "cell_type": "code",
      "source": [
        "print(\"04_flowing_with_data_structures\")\n",
        "\n",
        "def copies(list,data):\n",
        "  for i in range(3):\n",
        "    list.append(data)\n",
        "\n",
        "def main():\n",
        "  message = input(\"Enter a message to copy: \")\n",
        "  list = []\n",
        "  print(\"Before list: \", list)\n",
        "  copies(list,message)\n",
        "  print(\"After list: \", list)\n",
        "\n",
        "if __name__ == \"__main__\":\n",
        "  main()\n"
      ],
      "metadata": {
        "colab": {
          "base_uri": "https://localhost:8080/"
        },
        "id": "mROANN8wQJae",
        "outputId": "a1ac8368-8bf3-4451-d1c2-8222849e6dec"
      },
      "execution_count": 4,
      "outputs": [
        {
          "output_type": "stream",
          "name": "stdout",
          "text": [
            "04_flowing_with_data_structures\n",
            "Enter a message to copy: Helo\n",
            "Before list:  []\n",
            "After list:  ['Helo', 'Helo', 'Helo']\n"
          ]
        }
      ]
    },
    {
      "cell_type": "code",
      "source": [
        "print(\"05_get_first_element\")\n",
        "\n",
        "def get_first_element(list):\n",
        "  print(list[0])\n",
        "\n",
        "def get_list():\n",
        "  list = []\n",
        "  element:str = input(\"Enter an element to add: \")\n",
        "  while element != \"\":\n",
        "    list.append(element)\n",
        "    element = input(\"Enter an element to add: \")\n",
        "  return list\n",
        "\n",
        "def main():\n",
        "  list  = get_list()\n",
        "  get_first_element(list)\n",
        "\n",
        "if __name__ == \"__main__\":\n",
        "  main()"
      ],
      "metadata": {
        "colab": {
          "base_uri": "https://localhost:8080/"
        },
        "id": "5FXvtOERRjsf",
        "outputId": "a0eb1307-e52a-4b49-c5ff-0d4096e123a9"
      },
      "execution_count": 5,
      "outputs": [
        {
          "output_type": "stream",
          "name": "stdout",
          "text": [
            "05_get_first_element\n",
            "Enter an element to add: a\n",
            "Enter an element to add: d\n",
            "Enter an element to add: a\n",
            "Enter an element to add: g\n",
            "Enter an element to add: tg\n",
            "Enter an element to add: z\n",
            "Enter an element to add: \n",
            "a\n"
          ]
        }
      ]
    },
    {
      "cell_type": "code",
      "source": [
        "print(\"06_get_last_element.\")\n",
        "\n",
        "def get_last_element(list):\n",
        "  print(list[-1])\n",
        "\n",
        "def get_list():\n",
        "  list = []\n",
        "  element:str = input(\"Enter an element to add: \")\n",
        "  while element != \"\":\n",
        "    list.append(element)\n",
        "    element = input(\"Enter an element to add: \")\n",
        "  return list\n",
        "\n",
        "def main():\n",
        "  list  = get_list()\n",
        "  get_last_element(list)\n",
        "\n",
        "if __name__ == \"__main__\":\n",
        "  main()\n",
        ""
      ],
      "metadata": {
        "colab": {
          "base_uri": "https://localhost:8080/"
        },
        "id": "Qr6AZei1Sr0Y",
        "outputId": "ad939c0d-cc9d-43db-9ad9-039820c950bb"
      },
      "execution_count": 6,
      "outputs": [
        {
          "output_type": "stream",
          "name": "stdout",
          "text": [
            "06_get_last_element.\n",
            "Enter an element to add: r\n",
            "Enter an element to add: f\n",
            "Enter an element to add: g\n",
            "Enter an element to add: a\n",
            "Enter an element to add: t\n",
            "Enter an element to add: v\n",
            "Enter an element to add: \n",
            "v\n"
          ]
        }
      ]
    },
    {
      "cell_type": "code",
      "source": [
        "print(\"07_get_list\")\n",
        "\n",
        "def main():\n",
        "  list = []\n",
        "  val = input(\"Enter a value to make a list: \")\n",
        "  while val:\n",
        "    list.append(val)\n",
        "    val = input(\"Enter a value to make a list: \")\n",
        "  print(\"Here is the required list: \", list)\n",
        "\n",
        "if __name__ == \"__main__\":\n",
        "  main()"
      ],
      "metadata": {
        "colab": {
          "base_uri": "https://localhost:8080/"
        },
        "id": "HS9beaZxTobY",
        "outputId": "8f72eea9-6946-4760-a5dc-82f34c24f8df"
      },
      "execution_count": 7,
      "outputs": [
        {
          "output_type": "stream",
          "name": "stdout",
          "text": [
            "07_get_list\n",
            "Enter a value to make a list: afifa\n",
            "Enter a value to make a list: irma\n",
            "Enter a value to make a list: bisma\n",
            "Enter a value to make a list: hifza\n",
            "Enter a value to make a list: manahil\n",
            "Enter a value to make a list: zeeshan\n",
            "Enter a value to make a list: shakeel\n",
            "Enter a value to make a list: shahmeer\n",
            "Enter a value to make a list: \n",
            "Here is the required list:  ['afifa', 'irma', 'bisma', 'hifza', 'manahil', 'zeeshan', 'shakeel', 'shahmeer']\n"
          ]
        }
      ]
    },
    {
      "cell_type": "code",
      "source": [
        "print(\"08_shorten\")\n",
        "\n",
        "MAX_LENGTH:int = 3\n",
        "def shorten(list):\n",
        "  while len(list) >= MAX_LENGTH:\n",
        "    last_element = list.pop()\n",
        "    print(last_element)\n",
        "\n",
        "def get_list():\n",
        "  list = []\n",
        "  element = input(\"Enter an element to add to the list: \")\n",
        "  while element != \"\":\n",
        "    list.append(element)\n",
        "    element = input(\"Enter an element to add to the list: \")\n",
        "  return list\n",
        "\n",
        "def main():\n",
        "  list = get_list()\n",
        "  shorten(list)\n",
        "\n",
        "if __name__ == \"__main__\":\n",
        "  main()"
      ],
      "metadata": {
        "colab": {
          "base_uri": "https://localhost:8080/"
        },
        "id": "wW1ZPHn0UkIM",
        "outputId": "37aca34c-fff9-4651-ec8e-1303033ecd00"
      },
      "execution_count": 9,
      "outputs": [
        {
          "output_type": "stream",
          "name": "stdout",
          "text": [
            "08_shorten\n",
            "Enter an element to add to the list: y\n",
            "Enter an element to add to the list: r\n",
            "Enter an element to add to the list: w\n",
            "Enter an element to add to the list: o\n",
            "Enter an element to add to the list: khdkjsk\n",
            "Enter an element to add to the list: ajdjshdj\n",
            "Enter an element to add to the list: ajjdj\n",
            "Enter an element to add to the list: ajsjajsga\n",
            "Enter an element to add to the list: \n",
            "ajsjajsga\n",
            "ajjdj\n",
            "ajdjshdj\n",
            "khdkjsk\n",
            "o\n",
            "w\n"
          ]
        }
      ]
    }
  ]
}